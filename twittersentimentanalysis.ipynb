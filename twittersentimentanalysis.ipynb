{
  "nbformat": 4,
  "nbformat_minor": 0,
  "metadata": {
    "colab": {
      "provenance": [],
      "include_colab_link": true
    },
    "kernelspec": {
      "name": "python3",
      "display_name": "Python 3"
    },
    "language_info": {
      "name": "python"
    }
  },
  "cells": [
    {
      "cell_type": "markdown",
      "metadata": {
        "id": "view-in-github",
        "colab_type": "text"
      },
      "source": [
        "<a href=\"https://colab.research.google.com/github/Meenusiwach/sentimentanalysis_twitter/blob/main/twittersentimentanalysis.ipynb\" target=\"_parent\"><img src=\"https://colab.research.google.com/assets/colab-badge.svg\" alt=\"Open In Colab\"/></a>"
      ]
    },
    {
      "cell_type": "code",
      "execution_count": 1,
      "metadata": {
        "colab": {
          "base_uri": "https://localhost:8080/"
        },
        "id": "70VvxRI0GE92",
        "outputId": "7eb24837-b6f9-46ad-a4c4-64154b4552f8"
      },
      "outputs": [
        {
          "output_type": "stream",
          "name": "stdout",
          "text": [
            "Collecting pyngrok\n",
            "  Downloading pyngrok-7.1.6-py3-none-any.whl (22 kB)\n",
            "Requirement already satisfied: PyYAML>=5.1 in /usr/local/lib/python3.10/dist-packages (from pyngrok) (6.0.1)\n",
            "Installing collected packages: pyngrok\n",
            "Successfully installed pyngrok-7.1.6\n"
          ]
        }
      ],
      "source": [
        "!pip install pyngrok"
      ]
    },
    {
      "cell_type": "code",
      "source": [
        "!pip install kaggle"
      ],
      "metadata": {
        "colab": {
          "base_uri": "https://localhost:8080/"
        },
        "id": "7gTTA0lOGh-T",
        "outputId": "bc683e65-1ae4-479d-c472-30448126f262"
      },
      "execution_count": 9,
      "outputs": [
        {
          "output_type": "stream",
          "name": "stdout",
          "text": [
            "Requirement already satisfied: kaggle in /usr/local/lib/python3.10/dist-packages (1.6.12)\n",
            "Requirement already satisfied: six>=1.10 in /usr/local/lib/python3.10/dist-packages (from kaggle) (1.16.0)\n",
            "Requirement already satisfied: certifi>=2023.7.22 in /usr/local/lib/python3.10/dist-packages (from kaggle) (2024.2.2)\n",
            "Requirement already satisfied: python-dateutil in /usr/local/lib/python3.10/dist-packages (from kaggle) (2.8.2)\n",
            "Requirement already satisfied: requests in /usr/local/lib/python3.10/dist-packages (from kaggle) (2.31.0)\n",
            "Requirement already satisfied: tqdm in /usr/local/lib/python3.10/dist-packages (from kaggle) (4.66.2)\n",
            "Requirement already satisfied: python-slugify in /usr/local/lib/python3.10/dist-packages (from kaggle) (8.0.4)\n",
            "Requirement already satisfied: urllib3 in /usr/local/lib/python3.10/dist-packages (from kaggle) (2.0.7)\n",
            "Requirement already satisfied: bleach in /usr/local/lib/python3.10/dist-packages (from kaggle) (6.1.0)\n",
            "Requirement already satisfied: webencodings in /usr/local/lib/python3.10/dist-packages (from bleach->kaggle) (0.5.1)\n",
            "Requirement already satisfied: text-unidecode>=1.3 in /usr/local/lib/python3.10/dist-packages (from python-slugify->kaggle) (1.3)\n",
            "Requirement already satisfied: charset-normalizer<4,>=2 in /usr/local/lib/python3.10/dist-packages (from requests->kaggle) (3.3.2)\n",
            "Requirement already satisfied: idna<4,>=2.5 in /usr/local/lib/python3.10/dist-packages (from requests->kaggle) (3.7)\n"
          ]
        }
      ]
    },
    {
      "cell_type": "code",
      "source": [
        "!kaggle datasets download -d kazanova/sentiment140"
      ],
      "metadata": {
        "colab": {
          "base_uri": "https://localhost:8080/"
        },
        "id": "O4vHaI_6GjK3",
        "outputId": "a5eae422-7568-4beb-cb12-23552bf010be"
      },
      "execution_count": 10,
      "outputs": [
        {
          "output_type": "stream",
          "name": "stdout",
          "text": [
            "Dataset URL: https://www.kaggle.com/datasets/kazanova/sentiment140\n",
            "License(s): other\n",
            "Downloading sentiment140.zip to /content\n",
            " 74% 60.0M/80.9M [00:00<00:00, 212MB/s]\n",
            "100% 80.9M/80.9M [00:00<00:00, 209MB/s]\n"
          ]
        }
      ]
    },
    {
      "cell_type": "code",
      "source": [
        "# Unzip the dataset\n",
        "!unzip sentiment140.zip\n",
        "\n",
        "# Import necessary libraries\n",
        "import pandas as pd\n",
        "\n",
        "# Load the dataset\n",
        "# The data is in a CSV file named \"training.1600000.processed.noemoticon.csv\"\n",
        "data = pd.read_csv('training.1600000.processed.noemoticon.csv', encoding='ISO-8859-1', header=None)\n",
        "\n",
        "# Define column names for clarity\n",
        "data.columns = ['sentiment', 'id', 'date', 'query', 'user', 'text']\n",
        "\n",
        "# Map sentiment labels to \"positive\", \"negative\", and \"neutral\"\n",
        "data['sentiment'] = data['sentiment'].map({0: 'negative', 2: 'neutral', 4: 'positive'})\n",
        "\n",
        "# Print the first few rows of the dataframe\n",
        "print(data.head())"
      ],
      "metadata": {
        "colab": {
          "base_uri": "https://localhost:8080/"
        },
        "id": "426qVMCfGjp1",
        "outputId": "dbede8c9-f06c-41d6-d338-f70f0bfc583b"
      },
      "execution_count": 11,
      "outputs": [
        {
          "output_type": "stream",
          "name": "stdout",
          "text": [
            "Archive:  sentiment140.zip\n",
            "  inflating: training.1600000.processed.noemoticon.csv  \n",
            "  sentiment          id                          date     query  \\\n",
            "0  negative  1467810369  Mon Apr 06 22:19:45 PDT 2009  NO_QUERY   \n",
            "1  negative  1467810672  Mon Apr 06 22:19:49 PDT 2009  NO_QUERY   \n",
            "2  negative  1467810917  Mon Apr 06 22:19:53 PDT 2009  NO_QUERY   \n",
            "3  negative  1467811184  Mon Apr 06 22:19:57 PDT 2009  NO_QUERY   \n",
            "4  negative  1467811193  Mon Apr 06 22:19:57 PDT 2009  NO_QUERY   \n",
            "\n",
            "              user                                               text  \n",
            "0  _TheSpecialOne_  @switchfoot http://twitpic.com/2y1zl - Awww, t...  \n",
            "1    scotthamilton  is upset that he can't update his Facebook by ...  \n",
            "2         mattycus  @Kenichan I dived many times for the ball. Man...  \n",
            "3          ElleCTF    my whole body feels itchy and like its on fire   \n",
            "4           Karoli  @nationwideclass no, it's not behaving at all....  \n"
          ]
        }
      ]
    },
    {
      "cell_type": "code",
      "source": [
        "from sklearn.model_selection import train_test_split\n",
        "from sklearn.feature_extraction.text import CountVectorizer\n",
        "from sklearn.linear_model import LogisticRegression\n",
        "from sklearn.pipeline import Pipeline\n",
        "import joblib\n",
        "\n",
        "# Split the data into training and testing sets\n",
        "X_train, X_test, y_train, y_test = train_test_split(data['text'], data['sentiment'], test_size=0.2, random_state=42)\n",
        "\n",
        "# Create a pipeline with a vectorizer and a logistic regression classifier\n",
        "pipeline = Pipeline([\n",
        "    ('vectorizer', CountVectorizer()),\n",
        "    ('classifier', LogisticRegression(max_iter=1000))\n",
        "])\n",
        "\n",
        "# Train the model\n",
        "pipeline.fit(X_train, y_train)\n",
        "\n",
        "# Evaluate the model\n",
        "print(f\"Model accuracy: {pipeline.score(X_test, y_test):.2f}\")\n",
        "\n",
        "# Save the trained model\n",
        "joblib.dump(pipeline, '/content/trained_model.joblib')"
      ],
      "metadata": {
        "colab": {
          "base_uri": "https://localhost:8080/"
        },
        "id": "ONOQoVUPGkIQ",
        "outputId": "ee5bb1b8-e358-4d8b-e0ac-e87908a7b540"
      },
      "execution_count": 12,
      "outputs": [
        {
          "output_type": "stream",
          "name": "stderr",
          "text": [
            "/usr/local/lib/python3.10/dist-packages/sklearn/linear_model/_logistic.py:458: ConvergenceWarning: lbfgs failed to converge (status=1):\n",
            "STOP: TOTAL NO. of ITERATIONS REACHED LIMIT.\n",
            "\n",
            "Increase the number of iterations (max_iter) or scale the data as shown in:\n",
            "    https://scikit-learn.org/stable/modules/preprocessing.html\n",
            "Please also refer to the documentation for alternative solver options:\n",
            "    https://scikit-learn.org/stable/modules/linear_model.html#logistic-regression\n",
            "  n_iter_i = _check_optimize_result(\n"
          ]
        },
        {
          "output_type": "stream",
          "name": "stdout",
          "text": [
            "Model accuracy: 0.80\n"
          ]
        },
        {
          "output_type": "execute_result",
          "data": {
            "text/plain": [
              "['/content/trained_model.joblib']"
            ]
          },
          "metadata": {},
          "execution_count": 12
        }
      ]
    },
    {
      "cell_type": "code",
      "source": [],
      "metadata": {
        "id": "7K31XL3aGknm"
      },
      "execution_count": null,
      "outputs": []
    },
    {
      "cell_type": "code",
      "source": [
        "from flask import Flask\n",
        "from pyngrok import ngrok"
      ],
      "metadata": {
        "id": "9SnMp30rGRIt"
      },
      "execution_count": 2,
      "outputs": []
    },
    {
      "cell_type": "code",
      "source": [],
      "metadata": {
        "id": "kyvJXNHMGijJ"
      },
      "execution_count": null,
      "outputs": []
    },
    {
      "cell_type": "code",
      "source": [
        "port_no = 5000"
      ],
      "metadata": {
        "id": "mG1TsNyQG3j8"
      },
      "execution_count": 3,
      "outputs": []
    },
    {
      "cell_type": "code",
      "source": [
        "app = Flask(__name__)\n",
        "ngrok.set_auth_token(\"2g3eQaoQ7K47kV7uRwf8yiAutxn_7Q7etj3mMBFiHmxmudL3z\")\n",
        "public_url =  ngrok.connect(port_no).public_url\n",
        "\n",
        "@app.route(\"/\")\n",
        "def home():\n",
        "    return render_template('home.html')\n",
        "    #return f\"Running Flask on Google Colab!\"\n",
        "\n",
        "print(f\"To acces the Gloable link please click {public_url}\")\n",
        "\n",
        "app.run(port=port_no)"
      ],
      "metadata": {
        "colab": {
          "base_uri": "https://localhost:8080/"
        },
        "id": "wVheiNjMG528",
        "outputId": "4b5fd4fe-5e5d-42e3-cca9-974020f2f601"
      },
      "execution_count": 4,
      "outputs": [
        {
          "output_type": "stream",
          "name": "stdout",
          "text": [
            "To acces the Gloable link please click https://dbc5-34-168-203-146.ngrok-free.app\n",
            " * Serving Flask app '__main__'\n",
            " * Debug mode: off\n"
          ]
        },
        {
          "output_type": "stream",
          "name": "stderr",
          "text": [
            "INFO:werkzeug:\u001b[31m\u001b[1mWARNING: This is a development server. Do not use it in a production deployment. Use a production WSGI server instead.\u001b[0m\n",
            " * Running on http://127.0.0.1:5000\n",
            "INFO:werkzeug:\u001b[33mPress CTRL+C to quit\u001b[0m\n",
            "ERROR:__main__:Exception on / [GET]\n",
            "Traceback (most recent call last):\n",
            "  File \"/usr/local/lib/python3.10/dist-packages/flask/app.py\", line 2529, in wsgi_app\n",
            "    response = self.full_dispatch_request()\n",
            "  File \"/usr/local/lib/python3.10/dist-packages/flask/app.py\", line 1825, in full_dispatch_request\n",
            "    rv = self.handle_user_exception(e)\n",
            "  File \"/usr/local/lib/python3.10/dist-packages/flask/app.py\", line 1823, in full_dispatch_request\n",
            "    rv = self.dispatch_request()\n",
            "  File \"/usr/local/lib/python3.10/dist-packages/flask/app.py\", line 1799, in dispatch_request\n",
            "    return self.ensure_sync(self.view_functions[rule.endpoint])(**view_args)\n",
            "  File \"<ipython-input-4-ba5a4407dd6b>\", line 7, in home\n",
            "    return render_template('home.html')\n",
            "NameError: name 'render_template' is not defined\n",
            "INFO:werkzeug:127.0.0.1 - - [05/May/2024 18:40:20] \"\u001b[35m\u001b[1mGET / HTTP/1.1\u001b[0m\" 500 -\n",
            "INFO:werkzeug:127.0.0.1 - - [05/May/2024 18:40:21] \"\u001b[33mGET /favicon.ico HTTP/1.1\u001b[0m\" 404 -\n",
            "ERROR:__main__:Exception on / [GET]\n",
            "Traceback (most recent call last):\n",
            "  File \"/usr/local/lib/python3.10/dist-packages/flask/app.py\", line 2529, in wsgi_app\n",
            "    response = self.full_dispatch_request()\n",
            "  File \"/usr/local/lib/python3.10/dist-packages/flask/app.py\", line 1825, in full_dispatch_request\n",
            "    rv = self.handle_user_exception(e)\n",
            "  File \"/usr/local/lib/python3.10/dist-packages/flask/app.py\", line 1823, in full_dispatch_request\n",
            "    rv = self.dispatch_request()\n",
            "  File \"/usr/local/lib/python3.10/dist-packages/flask/app.py\", line 1799, in dispatch_request\n",
            "    return self.ensure_sync(self.view_functions[rule.endpoint])(**view_args)\n",
            "  File \"<ipython-input-4-ba5a4407dd6b>\", line 7, in home\n",
            "    return render_template('home.html')\n",
            "NameError: name 'render_template' is not defined\n",
            "INFO:werkzeug:127.0.0.1 - - [05/May/2024 18:40:53] \"\u001b[35m\u001b[1mGET / HTTP/1.1\u001b[0m\" 500 -\n",
            "ERROR:__main__:Exception on / [GET]\n",
            "Traceback (most recent call last):\n",
            "  File \"/usr/local/lib/python3.10/dist-packages/flask/app.py\", line 2529, in wsgi_app\n",
            "    response = self.full_dispatch_request()\n",
            "  File \"/usr/local/lib/python3.10/dist-packages/flask/app.py\", line 1825, in full_dispatch_request\n",
            "    rv = self.handle_user_exception(e)\n",
            "  File \"/usr/local/lib/python3.10/dist-packages/flask/app.py\", line 1823, in full_dispatch_request\n",
            "    rv = self.dispatch_request()\n",
            "  File \"/usr/local/lib/python3.10/dist-packages/flask/app.py\", line 1799, in dispatch_request\n",
            "    return self.ensure_sync(self.view_functions[rule.endpoint])(**view_args)\n",
            "  File \"<ipython-input-4-ba5a4407dd6b>\", line 7, in home\n",
            "    return render_template('home.html')\n",
            "NameError: name 'render_template' is not defined\n",
            "INFO:werkzeug:127.0.0.1 - - [05/May/2024 18:42:33] \"\u001b[35m\u001b[1mGET / HTTP/1.1\u001b[0m\" 500 -\n"
          ]
        }
      ]
    },
    {
      "cell_type": "code",
      "source": [
        "import joblib\n",
        "from IPython.display import HTML\n",
        "from IPython.display import display\n",
        "import matplotlib.pyplot as plt\n",
        "from matplotlib import colors\n",
        "\n",
        "# Load the HTML file\n",
        "html_file_path = \"/content/home.html\"  # Adjust the file path as necessary\n",
        "with open(html_file_path, \"r\") as file:\n",
        "    html_file_content = file.read()\n",
        "\n",
        "# Display the HTML file\n",
        "display(HTML(html_file_content))\n",
        "\n",
        "# Load the trained model\n",
        "model_path = '/content/trained_model.joblib'  # Adjust the path as necessary\n",
        "model = joblib.load(model_path)\n",
        "\n",
        "# Example dataset for testing\n",
        "data = {\n",
        "    \"text\": [\n",
        "        \"I hate the new movie!\",\n",
        "        \"I love the new movie!\"\n",
        "        \"The weather is terrible today.\",\n",
        "        \"I feel neutral about this event.\"\n",
        "    ]\n",
        "}\n",
        "\n",
        "# Perform sentiment analysis\n",
        "def perform_sentiment_analysis(topic):\n",
        "    # Filter data based on the topic\n",
        "    filtered_texts = [text for text in data[\"text\"] if topic in text]\n",
        "\n",
        "    # Predict sentiment using the model\n",
        "    predictions = model.predict(filtered_texts)\n",
        "\n",
        "    # Count positive, negative, and neutral sentiments\n",
        "    positive_count = sum(predictions == 'positive')\n",
        "    negative_count = sum(predictions == 'negative')\n",
        "    neutral_count = sum(predictions == 'neutral')\n",
        "\n",
        "    # Return the sentiment analysis results\n",
        "    return positive_count, negative_count, neutral_count\n",
        "\n",
        "# Function to create a pie chart\n",
        "def create_pie_chart(positive_count, negative_count, neutral_count):\n",
        "    # Define data for the pie chart\n",
        "    labels = ['Positive', 'Negative', 'Neutral']\n",
        "    sizes = [positive_count, negative_count, neutral_count]\n",
        "    colors_list = ['blue', 'red', 'gray']\n",
        "\n",
        "    # Create a pie chart\n",
        "    plt.figure(figsize=(4, 4))\n",
        "    plt.pie(sizes, labels=labels, colors=colors_list, autopct='%1.1f%%', startangle=140)\n",
        "    plt.title(\"Sentiment Analysis\")\n",
        "    plt.show()\n",
        "\n",
        "# Test the sentiment analysis and pie chart creation\n",
        "topic = \"movie\"  # Adjust the topic as necessary\n",
        "positive_count, negative_count, neutral_count = perform_sentiment_analysis(topic)\n",
        "create_pie_chart(positive_count, negative_count, neutral_count)\n"
      ],
      "metadata": {
        "colab": {
          "base_uri": "https://localhost:8080/",
          "height": 446
        },
        "id": "2rP0nk85Etb8",
        "outputId": "7d71a328-5584-47bd-b7a9-3c05891de4a0"
      },
      "execution_count": 37,
      "outputs": [
        {
          "output_type": "display_data",
          "data": {
            "text/plain": [
              "<IPython.core.display.HTML object>"
            ],
            "text/html": [
              "<!DOCTYPE html>\n",
              "<html>\n",
              "<head>\n",
              "    <title>Sentiment Analysis</title>\n",
              "    <!-- Include Plotly -->\n",
              "    <script src=\"https://cdn.plot.ly/plotly-latest.min.js\"></script>\n",
              "</head>\n",
              "<body>\n",
              "    <h1>Sentiment Analysis</h1>\n",
              "    <form id=\"sentiment-form\">\n",
              "        <label for=\"keyword\">Enter keyword:</label>\n",
              "        <input type=\"text\" id=\"keyword\" name=\"keyword\" required>\n",
              "        <button type=\"submit\">Analyze</button>\n",
              "    </form>\n",
              "    \n",
              "    <!-- Container for the pie chart -->\n",
              "    <div id=\"chart\"></div>\n",
              "    \n",
              "    <script>\n",
              "        document.getElementById('sentiment-form').addEventListener('submit', function(event) {\n",
              "            event.preventDefault();\n",
              "            const keyword = document.getElementById('keyword').value;\n",
              "            \n",
              "            // Send a POST request to the server with the keyword\n",
              "            fetch('/analyze', {\n",
              "                method: 'POST',\n",
              "                headers: {\n",
              "                    'Content-Type': 'application/x-www-form-urlencoded',\n",
              "                },\n",
              "                body: 'keyword=' + encodeURIComponent(keyword)\n",
              "            })\n",
              "            .then(response => response.json())\n",
              "            .then(data => {\n",
              "                // Parse the JSON data and plot the chart\n",
              "                const graphJson = JSON.parse(data);\n",
              "                Plotly.react('chart', graphJson.data, graphJson.layout);\n",
              "            })\n",
              "            .catch(error => {\n",
              "                console.error('Error:', error);\n",
              "            });\n",
              "        });\n",
              "    </script>\n",
              "</body>\n",
              "</html>\n"
            ]
          },
          "metadata": {}
        },
        {
          "output_type": "display_data",
          "data": {
            "text/plain": [
              "<Figure size 400x400 with 1 Axes>"
            ],
            "image/png": "[encoded data removed]"
          },
          "metadata": {}
        }
      ]
    },
    {
      "cell_type": "code",
      "source": [
        "import joblib\n",
        "from IPython.display import HTML, display\n",
        "import matplotlib.pyplot as plt\n",
        "\n",
        "# Load the HTML file\n",
        "html_file_path = \"/content/home.html\"  # Adjust the file path as necessary\n",
        "with open(html_file_path, \"r\") as file:\n",
        "    html_file_content = file.read()\n",
        "\n",
        "# Display the HTML file\n",
        "display(HTML(html_file_content))\n",
        "\n",
        "# Load the trained model\n",
        "model_path = '/content/trained_model.joblib'  # Adjust the path as necessary\n",
        "model = joblib.load(model_path)\n",
        "\n",
        "# Example dataset for testing\n",
        "data = {\n",
        "    \"text\": [\n",
        "        \"I hate the new movie!\",\n",
        "        \"I  saw new movie!\",\n",
        "         \"I love the new movie!\",\n",
        "         \"I love the new movie!\",\n",
        "        \"The weather is terrible today.\",\n",
        "        \"I feel neutral about this event.\"\n",
        "    ]\n",
        "}\n",
        "\n",
        "# Perform sentiment analysis\n",
        "def perform_sentiment_analysis(topic):\n",
        "    # Filter data based on the topic\n",
        "    filtered_texts = [text for text in data[\"text\"] if topic.lower() in text.lower()]\n",
        "\n",
        "    # Predict sentiment using the model\n",
        "    predictions = model.predict(filtered_texts)\n",
        "\n",
        "    # Count positive, negative, and neutral sentiments\n",
        "    positive_count = sum(predictions == 'positive')\n",
        "    negative_count = sum(predictions == 'negative')\n",
        "    neutral_count = sum(predictions == 'neutral')\n",
        "\n",
        "    # Return the sentiment analysis results\n",
        "    return positive_count, negative_count, neutral_count\n",
        "\n",
        "# Function to create a pie chart\n",
        "def create_pie_chart(positive_count, negative_count, neutral_count):\n",
        "    # Define data for the pie chart\n",
        "    labels = ['Positive', 'Negative', 'Neutral']\n",
        "    sizes = [positive_count, negative_count, neutral_count]\n",
        "    colors_list = ['blue', 'red', 'gray']\n",
        "\n",
        "    # Create a pie chart\n",
        "    plt.figure(figsize=(4, 4))\n",
        "    plt.pie(sizes, labels=labels, colors=colors_list, autopct='%1.1f%%', startangle=140)\n",
        "    plt.title(\"Sentiment Analysis\")\n",
        "    plt.show()\n",
        "print(neutral_count)\n",
        "# Test the sentiment analysis and pie chart creation\n",
        "topic = \"movie\"  # Adjust the topic as necessary\n",
        "positive_count, negative_count, neutral_count = perform_sentiment_analysis(topic)\n",
        "create_pie_chart(positive_count, negative_count, neutral_count)\n"
      ],
      "metadata": {
        "colab": {
          "base_uri": "https://localhost:8080/",
          "height": 463
        },
        "id": "2WqGj69fMAtM",
        "outputId": "fe67e622-09b2-49c1-9fd3-85b58cfcc89d"
      },
      "execution_count": 44,
      "outputs": [
        {
          "output_type": "display_data",
          "data": {
            "text/plain": [
              "<IPython.core.display.HTML object>"
            ],
            "text/html": [
              "<!DOCTYPE html>\n",
              "<html>\n",
              "<head>\n",
              "    <title>Sentiment Analysis</title>\n",
              "    <!-- Include Plotly -->\n",
              "    <script src=\"https://cdn.plot.ly/plotly-latest.min.js\"></script>\n",
              "</head>\n",
              "<body>\n",
              "    <h1>Sentiment Analysis</h1>\n",
              "    <form id=\"sentiment-form\">\n",
              "        <label for=\"keyword\">Enter keyword:</label>\n",
              "        <input type=\"text\" id=\"keyword\" name=\"keyword\" required>\n",
              "        <button type=\"submit\">Analyze</button>\n",
              "    </form>\n",
              "    \n",
              "    <!-- Container for the pie chart -->\n",
              "    <div id=\"chart\"></div>\n",
              "    \n",
              "    <script>\n",
              "        document.getElementById('sentiment-form').addEventListener('submit', function(event) {\n",
              "            event.preventDefault();\n",
              "            const keyword = document.getElementById('keyword').value;\n",
              "            \n",
              "            // Send a POST request to the server with the keyword\n",
              "            fetch('/analyze', {\n",
              "                method: 'POST',\n",
              "                headers: {\n",
              "                    'Content-Type': 'application/x-www-form-urlencoded',\n",
              "                },\n",
              "                body: 'keyword=' + encodeURIComponent(keyword)\n",
              "            })\n",
              "            .then(response => response.json())\n",
              "            .then(data => {\n",
              "                // Parse the JSON data and plot the chart\n",
              "                const graphJson = JSON.parse(data);\n",
              "                Plotly.react('chart', graphJson.data, graphJson.layout);\n",
              "            })\n",
              "            .catch(error => {\n",
              "                console.error('Error:', error);\n",
              "            });\n",
              "        });\n",
              "    </script>\n",
              "</body>\n",
              "</html>\n"
            ]
          },
          "metadata": {}
        },
        {
          "output_type": "stream",
          "name": "stdout",
          "text": [
            "0\n"
          ]
        },
        {
          "output_type": "display_data",
          "data": {
            "text/plain": [
              "<Figure size 400x400 with 1 Axes>"
            ],
            "image/png": "[encoded data removed]"
          },
          "metadata": {}
        }
      ]
    },
    {
      "cell_type": "code",
      "source": [
        "import joblib\n",
        "import pandas as pd\n",
        "from IPython.display import HTML, display\n",
        "import matplotlib.pyplot as plt\n",
        "\n",
        "# Load the HTML file\n",
        "html_file_path = \"/content/home.html\"  # Adjust the file path as necessary\n",
        "with open(html_file_path, \"r\") as file:\n",
        "    html_file_content = file.read()\n",
        "\n",
        "# Display the HTML file\n",
        "display(HTML(html_file_content))\n",
        "\n",
        "# Load the trained model\n",
        "model_path = '/content/trained_model.joblib'  # Adjust the path as necessary\n",
        "model = joblib.load(model_path)\n",
        "\n",
        "# Example dataset with true labels for testing\n",
        "data = {\n",
        "    \"text\": [\n",
        "        \"I hate the new movie!\",\n",
        "        \"I love the new movie!\",\n",
        "        \"I feel neutral about this event.\",\n",
        "        \"The weather is terrible today.\",\n",
        "        \"I saw the new movie!\"\n",
        "    ],\n",
        "    \"true_labels\": [\n",
        "        \"negative\",\n",
        "        \"positive\",\n",
        "        \"neutral\",\n",
        "        \"negative\",\n",
        "        \"neutral\"\n",
        "    ]\n",
        "}\n",
        "\n",
        "# Perform sentiment analysis and separate neutral tweets based on true labels\n",
        "def perform_sentiment_analysis(topic):\n",
        "    # Initialize counts\n",
        "    positive_count = 0\n",
        "    negative_count = 0\n",
        "    neutral_count = 0\n",
        "\n",
        "    # Filter data based on the topic\n",
        "    filtered_texts = []\n",
        "    filtered_labels = []\n",
        "\n",
        "    for i in range(len(data[\"text\"])):\n",
        "        text = data[\"text\"][i]\n",
        "        label = data[\"true_labels\"][i]\n",
        "        if topic.lower() in text.lower():\n",
        "            filtered_texts.append(text)\n",
        "            filtered_labels.append(label)\n",
        "\n",
        "            # Count neutral tweets based on true labels\n",
        "            if label == 'neutral':\n",
        "                neutral_count += 1\n",
        "\n",
        "    # Predict sentiment using the model\n",
        "    predictions = model.predict(filtered_texts)\n",
        "\n",
        "    # Count positive and negative sentiments from the predictions\n",
        "    positive_count += sum(predictions == 'positive' and label != 'neutral' for predictions, label in zip(predictions, filtered_labels))\n",
        "    negative_count += sum(predictions == 'negative' and label != 'neutral' for predictions, label in zip(predictions, filtered_labels))\n",
        "\n",
        "    # Return the sentiment analysis results\n",
        "    return positive_count, negative_count, neutral_count\n",
        "\n",
        "# Function to create a pie chart\n",
        "def create_pie_chart(positive_count, negative_count, neutral_count):\n",
        "    # Define data for the pie chart\n",
        "    labels = ['Positive', 'Negative', 'Neutral']\n",
        "    sizes = [positive_count, negative_count, neutral_count]\n",
        "    colors_list = ['pink', 'grey', 'orange']\n",
        "\n",
        "    # Create a pie chart\n",
        "    plt.figure(figsize=(4, 4))\n",
        "    plt.pie(sizes, labels=labels, colors=colors_list, autopct='%1.1f%%', startangle=140)\n",
        "    plt.title(\"Sentiment Analysis\")\n",
        "    plt.show()\n",
        "\n",
        "# Test the sentiment analysis and pie chart creation\n",
        "topic = \"movie\"  # Adjust the topic as necessary\n",
        "positive_count, negative_count, neutral_count = perform_sentiment_analysis(topic)\n",
        "\n",
        "# Print the counts of positive, negative, and neutral sentiments\n",
        "print(f\"Positive Tweets: {positive_count}\")\n",
        "print(f\"Negative Tweets: {negative_count}\")\n",
        "print(f\"Neutral Tweets: {neutral_count}\")\n",
        "\n",
        "# Create and display the pie chart\n",
        "create_pie_chart(positive_count, negative_count, neutral_count)\n"
      ],
      "metadata": {
        "colab": {
          "base_uri": "https://localhost:8080/",
          "height": 498
        },
        "id": "gtxDAh8hRfnu",
        "outputId": "b5ce9553-be84-4600-9f67-97e6db9ed0f4"
      },
      "execution_count": 70,
      "outputs": [
        {
          "output_type": "display_data",
          "data": {
            "text/plain": [
              "<IPython.core.display.HTML object>"
            ],
            "text/html": [
              "<!DOCTYPE html>\n",
              "<html>\n",
              "<head>\n",
              "    <title>Sentiment Analysis</title>\n",
              "    <!-- Include Plotly -->\n",
              "    <script src=\"https://cdn.plot.ly/plotly-latest.min.js\"></script>\n",
              "</head>\n",
              "<body>\n",
              "    <h1>Sentiment Analysis</h1>\n",
              "    <form id=\"sentiment-form\">\n",
              "        <label for=\"keyword\">Enter keyword:</label>\n",
              "        <input type=\"text\" id=\"keyword\" name=\"keyword\" required>\n",
              "        <button type=\"submit\">Analyze</button>\n",
              "    </form>\n",
              "    \n",
              "    <!-- Container for the pie chart -->\n",
              "    <div id=\"chart\"></div>\n",
              "    \n",
              "    <script>\n",
              "        document.getElementById('sentiment-form').addEventListener('submit', function(event) {\n",
              "            event.preventDefault();\n",
              "            const keyword = document.getElementById('keyword').value;\n",
              "            \n",
              "            // Send a POST request to the server with the keyword\n",
              "            fetch('/analyze', {\n",
              "                method: 'POST',\n",
              "                headers: {\n",
              "                    'Content-Type': 'application/x-www-form-urlencoded',\n",
              "                },\n",
              "                body: 'keyword=' + encodeURIComponent(keyword)\n",
              "            })\n",
              "            .then(response => response.json())\n",
              "            .then(data => {\n",
              "                // Parse the JSON data and plot the chart\n",
              "                const graphJson = JSON.parse(data);\n",
              "                Plotly.react('chart', graphJson.data, graphJson.layout);\n",
              "            })\n",
              "            .catch(error => {\n",
              "                console.error('Error:', error);\n",
              "            });\n",
              "        });\n",
              "    </script>\n",
              "</body>\n",
              "</html>\n"
            ]
          },
          "metadata": {}
        },
        {
          "output_type": "stream",
          "name": "stdout",
          "text": [
            "Positive Tweets: 1\n",
            "Negative Tweets: 1\n",
            "Neutral Tweets: 1\n"
          ]
        },
        {
          "output_type": "display_data",
          "data": {
            "text/plain": [
              "<Figure size 400x400 with 1 Axes>"
            ],
            "image/png": "[encoded data removed]"
          },
          "metadata": {}
        }
      ]
    },
    {
      "cell_type": "code",
      "source": [
        "import joblib\n",
        "import pandas as pd\n",
        "from IPython.display import HTML, display\n",
        "import matplotlib.pyplot as plt\n",
        "from sklearn.metrics import accuracy_score, precision_score, recall_score, f1_score\n",
        "from sklearn.feature_extraction.text import TfidfVectorizer\n",
        "from sklearn.model_selection import train_test_split, GridSearchCV\n",
        "from sklearn.svm import SVC  # Example algorithm (support vector machine)\n",
        "\n",
        "# Load the HTML file\n",
        "html_file_path = \"/content/home.html\"\n",
        "with open(html_file_path, \"r\") as file:\n",
        "    html_file_content = file.read()\n",
        "display(HTML(html_file_content))\n",
        "\n",
        "# Load the trained model\n",
        "model_path = '/content/trained_model.joblib'\n",
        "model = joblib.load(model_path)\n",
        "\n",
        "# Example dataset with true labels for testing\n",
        "data = {\n",
        "    \"text\": [\n",
        "        \"I hate the new movie!\",\n",
        "        \"I love the new movie!\",\n",
        "        \"I feel neutral about this event.\",\n",
        "        \"The weather is terrible today.\",\n",
        "        \"I saw the new movie!\"\n",
        "    ],\n",
        "    \"true_labels\": [\n",
        "        \"negative\",\n",
        "        \"positive\",\n",
        "        \"neutral\",\n",
        "        \"negative\",\n",
        "        \"neutral\"\n",
        "    ]\n",
        "}\n",
        "\n",
        "# Preprocessing: Text cleaning and feature extraction\n",
        "def preprocess_text(text):\n",
        "    # Convert to lowercase\n",
        "    text = text.lower()\n",
        "    # Remove special characters\n",
        "    text = ''.join(e for e in text if e.isalnum() or e.isspace())\n",
        "    return text\n",
        "\n",
        "# Apply preprocessing to data\n",
        "data['text'] = [preprocess_text(text) for text in data['text']]\n",
        "\n",
        "# Split the data into training and testing sets\n",
        "X = data['text']\n",
        "y = data['true_labels']\n",
        "X_train, X_test, y_train, y_test = train_test_split(X, y, test_size=0.2, random_state=42)\n",
        "\n",
        "# Convert text data to numerical data using TF-IDF\n",
        "tfidf = TfidfVectorizer()\n",
        "X_train_tfidf = tfidf.fit_transform(X_train)\n",
        "X_test_tfidf = tfidf.transform(X_test)\n",
        "\n",
        "# Example algorithm: Support Vector Machine\n",
        "# Perform hyperparameter tuning\n",
        "parameters = {'C': [0.1, 1, 10], 'kernel': ['linear', 'rbf']}\n",
        "svc = SVC()\n",
        "clf = GridSearchCV(svc, parameters, scoring='accuracy', cv=5)\n",
        "clf.fit(X_train_tfidf, y_train)\n",
        "\n",
        "# Make predictions on the test set\n",
        "y_pred = clf.predict(X_test_tfidf)\n",
        "\n",
        "# Calculate accuracy, precision, recall, and F1-score\n",
        "accuracy = accuracy_score(y_test, y_pred)\n",
        "precision = precision_score(y_test, y_pred, average='weighted')\n",
        "recall = recall_score(y_test, y_pred, average='weighted')\n",
        "f1 = f1_score(y_test, y_pred, average='weighted')\n",
        "\n",
        "print(f\"Accuracy: {accuracy}\")\n",
        "print(f\"Precision: {precision}\")\n",
        "print(f\"Recall: {recall}\")\n",
        "print(f\"F1-score: {f1}\")\n",
        "\n",
        "# Create a pie chart to visualize sentiment analysis results\n",
        "def create_pie_chart(positive_count, negative_count, neutral_count):\n",
        "    # Define data for the pie chart\n",
        "    labels = ['Positive', 'Negative', 'Neutral']\n",
        "    sizes = [positive_count, negative_count, neutral_count]\n",
        "    colors_list = ['blue', 'red', 'gray']\n",
        "\n",
        "    # Create a pie chart\n",
        "    plt.figure(figsize=(4, 4))\n",
        "    plt.pie(sizes, labels=labels, colors=colors_list, autopct='%1.1f%%', startangle=140)\n",
        "    plt.title(\"Sentiment Analysis\")\n",
        "    plt.show()\n",
        "\n",
        "# Perform sentiment analysis\n",
        "topic = \"movie\"\n",
        "positive_count, negative_count, neutral_count = perform_sentiment_analysis(topic)\n",
        "\n",
        "# Visualize the results\n",
        "create_pie_chart(positive_count, negative_count, neutral_count)\n"
      ],
      "metadata": {
        "colab": {
          "base_uri": "https://localhost:8080/",
          "height": 435
        },
        "id": "_jJJkbgxFXkv",
        "outputId": "1894dea6-89bb-4e11-eb76-3b3229c7ccb8"
      },
      "execution_count": 59,
      "outputs": [
        {
          "output_type": "display_data",
          "data": {
            "text/plain": [
              "<IPython.core.display.HTML object>"
            ],
            "text/html": [
              "<!DOCTYPE html>\n",
              "<html>\n",
              "<head>\n",
              "    <title>Sentiment Analysis</title>\n",
              "    <!-- Include Plotly -->\n",
              "    <script src=\"https://cdn.plot.ly/plotly-latest.min.js\"></script>\n",
              "</head>\n",
              "<body>\n",
              "    <h1>Sentiment Analysis</h1>\n",
              "    <form id=\"sentiment-form\">\n",
              "        <label for=\"keyword\">Enter keyword:</label>\n",
              "        <input type=\"text\" id=\"keyword\" name=\"keyword\" required>\n",
              "        <button type=\"submit\">Analyze</button>\n",
              "    </form>\n",
              "    \n",
              "    <!-- Container for the pie chart -->\n",
              "    <div id=\"chart\"></div>\n",
              "    \n",
              "    <script>\n",
              "        document.getElementById('sentiment-form').addEventListener('submit', function(event) {\n",
              "            event.preventDefault();\n",
              "            const keyword = document.getElementById('keyword').value;\n",
              "            \n",
              "            // Send a POST request to the server with the keyword\n",
              "            fetch('/analyze', {\n",
              "                method: 'POST',\n",
              "                headers: {\n",
              "                    'Content-Type': 'application/x-www-form-urlencoded',\n",
              "                },\n",
              "                body: 'keyword=' + encodeURIComponent(keyword)\n",
              "            })\n",
              "            .then(response => response.json())\n",
              "            .then(data => {\n",
              "                // Parse the JSON data and plot the chart\n",
              "                const graphJson = JSON.parse(data);\n",
              "                Plotly.react('chart', graphJson.data, graphJson.layout);\n",
              "            })\n",
              "            .catch(error => {\n",
              "                console.error('Error:', error);\n",
              "            });\n",
              "        });\n",
              "    </script>\n",
              "</body>\n",
              "</html>\n"
            ]
          },
          "metadata": {}
        },
        {
          "output_type": "error",
          "ename": "ValueError",
          "evalue": "Cannot have number of splits n_splits=5 greater than the number of samples: n_samples=4.",
          "traceback": [
            "\u001b[0;31m---------------------------------------------------------------------------\u001b[0m",
            "\u001b[0;31mValueError\u001b[0m                                Traceback (most recent call last)",
            "\u001b[0;32m<ipython-input-59-73ac3cecf1ad>\u001b[0m in \u001b[0;36m<cell line: 64>\u001b[0;34m()\u001b[0m\n\u001b[1;32m     62\u001b[0m \u001b[0msvc\u001b[0m \u001b[0;34m=\u001b[0m \u001b[0mSVC\u001b[0m\u001b[0;34m(\u001b[0m\u001b[0;34m)\u001b[0m\u001b[0;34m\u001b[0m\u001b[0;34m\u001b[0m\u001b[0m\n\u001b[1;32m     63\u001b[0m \u001b[0mclf\u001b[0m \u001b[0;34m=\u001b[0m \u001b[0mGridSearchCV\u001b[0m\u001b[0;34m(\u001b[0m\u001b[0msvc\u001b[0m\u001b[0;34m,\u001b[0m \u001b[0mparameters\u001b[0m\u001b[0;34m,\u001b[0m \u001b[0mscoring\u001b[0m\u001b[0;34m=\u001b[0m\u001b[0;34m'accuracy'\u001b[0m\u001b[0;34m,\u001b[0m \u001b[0mcv\u001b[0m\u001b[0;34m=\u001b[0m\u001b[0;36m5\u001b[0m\u001b[0;34m)\u001b[0m\u001b[0;34m\u001b[0m\u001b[0;34m\u001b[0m\u001b[0m\n\u001b[0;32m---> 64\u001b[0;31m \u001b[0mclf\u001b[0m\u001b[0;34m.\u001b[0m\u001b[0mfit\u001b[0m\u001b[0;34m(\u001b[0m\u001b[0mX_train_tfidf\u001b[0m\u001b[0;34m,\u001b[0m \u001b[0my_train\u001b[0m\u001b[0;34m)\u001b[0m\u001b[0;34m\u001b[0m\u001b[0;34m\u001b[0m\u001b[0m\n\u001b[0m\u001b[1;32m     65\u001b[0m \u001b[0;34m\u001b[0m\u001b[0m\n\u001b[1;32m     66\u001b[0m \u001b[0;31m# Make predictions on the test set\u001b[0m\u001b[0;34m\u001b[0m\u001b[0;34m\u001b[0m\u001b[0m\n",
            "\u001b[0;32m/usr/local/lib/python3.10/dist-packages/sklearn/model_selection/_search.py\u001b[0m in \u001b[0;36mfit\u001b[0;34m(self, X, y, groups, **fit_params)\u001b[0m\n\u001b[1;32m    872\u001b[0m                 \u001b[0;32mreturn\u001b[0m \u001b[0mresults\u001b[0m\u001b[0;34m\u001b[0m\u001b[0;34m\u001b[0m\u001b[0m\n\u001b[1;32m    873\u001b[0m \u001b[0;34m\u001b[0m\u001b[0m\n\u001b[0;32m--> 874\u001b[0;31m             \u001b[0mself\u001b[0m\u001b[0;34m.\u001b[0m\u001b[0m_run_search\u001b[0m\u001b[0;34m(\u001b[0m\u001b[0mevaluate_candidates\u001b[0m\u001b[0;34m)\u001b[0m\u001b[0;34m\u001b[0m\u001b[0;34m\u001b[0m\u001b[0m\n\u001b[0m\u001b[1;32m    875\u001b[0m \u001b[0;34m\u001b[0m\u001b[0m\n\u001b[1;32m    876\u001b[0m             \u001b[0;31m# multimetric is determined here because in the case of a callable\u001b[0m\u001b[0;34m\u001b[0m\u001b[0;34m\u001b[0m\u001b[0m\n",
            "\u001b[0;32m/usr/local/lib/python3.10/dist-packages/sklearn/model_selection/_search.py\u001b[0m in \u001b[0;36m_run_search\u001b[0;34m(self, evaluate_candidates)\u001b[0m\n\u001b[1;32m   1386\u001b[0m     \u001b[0;32mdef\u001b[0m \u001b[0m_run_search\u001b[0m\u001b[0;34m(\u001b[0m\u001b[0mself\u001b[0m\u001b[0;34m,\u001b[0m \u001b[0mevaluate_candidates\u001b[0m\u001b[0;34m)\u001b[0m\u001b[0;34m:\u001b[0m\u001b[0;34m\u001b[0m\u001b[0;34m\u001b[0m\u001b[0m\n\u001b[1;32m   1387\u001b[0m         \u001b[0;34m\"\"\"Search all candidates in param_grid\"\"\"\u001b[0m\u001b[0;34m\u001b[0m\u001b[0;34m\u001b[0m\u001b[0m\n\u001b[0;32m-> 1388\u001b[0;31m         \u001b[0mevaluate_candidates\u001b[0m\u001b[0;34m(\u001b[0m\u001b[0mParameterGrid\u001b[0m\u001b[0;34m(\u001b[0m\u001b[0mself\u001b[0m\u001b[0;34m.\u001b[0m\u001b[0mparam_grid\u001b[0m\u001b[0;34m)\u001b[0m\u001b[0;34m)\u001b[0m\u001b[0;34m\u001b[0m\u001b[0;34m\u001b[0m\u001b[0m\n\u001b[0m\u001b[1;32m   1389\u001b[0m \u001b[0;34m\u001b[0m\u001b[0m\n\u001b[1;32m   1390\u001b[0m \u001b[0;34m\u001b[0m\u001b[0m\n",
            "\u001b[0;32m/usr/local/lib/python3.10/dist-packages/sklearn/model_selection/_search.py\u001b[0m in \u001b[0;36mevaluate_candidates\u001b[0;34m(candidate_params, cv, more_results)\u001b[0m\n\u001b[1;32m    831\u001b[0m                         \u001b[0;34m**\u001b[0m\u001b[0mfit_and_score_kwargs\u001b[0m\u001b[0;34m,\u001b[0m\u001b[0;34m\u001b[0m\u001b[0;34m\u001b[0m\u001b[0m\n\u001b[1;32m    832\u001b[0m                     )\n\u001b[0;32m--> 833\u001b[0;31m                     for (cand_idx, parameters), (split_idx, (train, test)) in product(\n\u001b[0m\u001b[1;32m    834\u001b[0m                         \u001b[0menumerate\u001b[0m\u001b[0;34m(\u001b[0m\u001b[0mcandidate_params\u001b[0m\u001b[0;34m)\u001b[0m\u001b[0;34m,\u001b[0m \u001b[0menumerate\u001b[0m\u001b[0;34m(\u001b[0m\u001b[0mcv\u001b[0m\u001b[0;34m.\u001b[0m\u001b[0msplit\u001b[0m\u001b[0;34m(\u001b[0m\u001b[0mX\u001b[0m\u001b[0;34m,\u001b[0m \u001b[0my\u001b[0m\u001b[0;34m,\u001b[0m \u001b[0mgroups\u001b[0m\u001b[0;34m)\u001b[0m\u001b[0;34m)\u001b[0m\u001b[0;34m\u001b[0m\u001b[0;34m\u001b[0m\u001b[0m\n\u001b[1;32m    835\u001b[0m                     )\n",
            "\u001b[0;32m/usr/local/lib/python3.10/dist-packages/sklearn/model_selection/_split.py\u001b[0m in \u001b[0;36msplit\u001b[0;34m(self, X, y, groups)\u001b[0m\n\u001b[1;32m    343\u001b[0m         \u001b[0mn_samples\u001b[0m \u001b[0;34m=\u001b[0m \u001b[0m_num_samples\u001b[0m\u001b[0;34m(\u001b[0m\u001b[0mX\u001b[0m\u001b[0;34m)\u001b[0m\u001b[0;34m\u001b[0m\u001b[0;34m\u001b[0m\u001b[0m\n\u001b[1;32m    344\u001b[0m         \u001b[0;32mif\u001b[0m \u001b[0mself\u001b[0m\u001b[0;34m.\u001b[0m\u001b[0mn_splits\u001b[0m \u001b[0;34m>\u001b[0m \u001b[0mn_samples\u001b[0m\u001b[0;34m:\u001b[0m\u001b[0;34m\u001b[0m\u001b[0;34m\u001b[0m\u001b[0m\n\u001b[0;32m--> 345\u001b[0;31m             raise ValueError(\n\u001b[0m\u001b[1;32m    346\u001b[0m                 (\n\u001b[1;32m    347\u001b[0m                     \u001b[0;34m\"Cannot have number of splits n_splits={0} greater\"\u001b[0m\u001b[0;34m\u001b[0m\u001b[0;34m\u001b[0m\u001b[0m\n",
            "\u001b[0;31mValueError\u001b[0m: Cannot have number of splits n_splits=5 greater than the number of samples: n_samples=4."
          ]
        }
      ]
    },
    {
      "cell_type": "code",
      "source": [
        "# Example true labels (adjust based on your data)\n",
        "true_labels = ['positive', 'negative', 'neutral']\n",
        "\n",
        "# Calculate precision\n",
        "precision = calculate_precision( predictions, true_labels)\n",
        "print(f\"Precision: {precision}\")\n"
      ],
      "metadata": {
        "id": "AlZDmXjdHc1D",
        "colab": {
          "base_uri": "https://localhost:8080/",
          "height": 193
        },
        "outputId": "ae7bdb9a-b67b-46ff-b7d6-afaba2985c0f"
      },
      "execution_count": 51,
      "outputs": [
        {
          "output_type": "error",
          "ename": "NameError",
          "evalue": "name 'predictions' is not defined",
          "traceback": [
            "\u001b[0;31m---------------------------------------------------------------------------\u001b[0m",
            "\u001b[0;31mNameError\u001b[0m                                 Traceback (most recent call last)",
            "\u001b[0;32m<ipython-input-51-0b009073f114>\u001b[0m in \u001b[0;36m<cell line: 5>\u001b[0;34m()\u001b[0m\n\u001b[1;32m      3\u001b[0m \u001b[0;34m\u001b[0m\u001b[0m\n\u001b[1;32m      4\u001b[0m \u001b[0;31m# Calculate precision\u001b[0m\u001b[0;34m\u001b[0m\u001b[0;34m\u001b[0m\u001b[0m\n\u001b[0;32m----> 5\u001b[0;31m \u001b[0mprecision\u001b[0m \u001b[0;34m=\u001b[0m \u001b[0mcalculate_precision\u001b[0m\u001b[0;34m(\u001b[0m \u001b[0mpredictions\u001b[0m\u001b[0;34m,\u001b[0m \u001b[0mtrue_labels\u001b[0m\u001b[0;34m)\u001b[0m\u001b[0;34m\u001b[0m\u001b[0;34m\u001b[0m\u001b[0m\n\u001b[0m\u001b[1;32m      6\u001b[0m \u001b[0mprint\u001b[0m\u001b[0;34m(\u001b[0m\u001b[0;34mf\"Precision: {precision}\"\u001b[0m\u001b[0;34m)\u001b[0m\u001b[0;34m\u001b[0m\u001b[0;34m\u001b[0m\u001b[0m\n",
            "\u001b[0;31mNameError\u001b[0m: name 'predictions' is not defined"
          ]
        }
      ]
    },
    {
      "cell_type": "code",
      "source": [
        "from IPython.display import HTML\n",
        "\n",
        "# Load the HTML file\n",
        "html_file = open(\"home1.html\", \"r\").read()\n",
        "\n",
        "# Display the HTML file\n",
        "display(HTML(html_file))"
      ],
      "metadata": {
        "colab": {
          "base_uri": "https://localhost:8080/",
          "height": 96
        },
        "id": "VNuE3JVEFsRf",
        "outputId": "1c3a9921-ad82-4a5b-b5a6-5d2e680647f2"
      },
      "execution_count": 8,
      "outputs": [
        {
          "output_type": "display_data",
          "data": {
            "text/plain": [
              "<IPython.core.display.HTML object>"
            ],
            "text/html": [
              "<!DOCTYPE html>\n",
              "<html>\n",
              "<head>\n",
              "    <title>Sentiment Analysis</title>\n",
              "    <!-- Include Plotly -->\n",
              "    <script src=\"https://cdn.plot.ly/plotly-latest.min.js\"></script>\n",
              "</head>\n",
              "<body>\n",
              "    <h1>Sentiment Analysis</h1>\n",
              "    <form id=\"sentiment-form\">\n",
              "        <label for=\"keyword\">Enter keyword:</label>\n",
              "        <input type=\"text\" id=\"keyword\" name=\"keyword\" required>\n",
              "        <button type=\"submit\">Analyze</button>\n",
              "    </form>\n",
              "    \n",
              "    <!-- Container for the pie chart -->\n",
              "    <div id=\"chart\"></div>\n",
              "    \n",
              "    <script>\n",
              "        document.getElementById('sentiment-form').addEventListener('submit', function(event) {\n",
              "            event.preventDefault();\n",
              "            const keyword = document.getElementById('keyword').value;\n",
              "            \n",
              "            // Send a POST request to the server with the keyword\n",
              "            fetch('/analyze', {\n",
              "                method: 'POST',\n",
              "                headers: {\n",
              "                    'Content-Type': 'application/x-www-form-urlencoded',\n",
              "                },\n",
              "                body: 'keyword=' + encodeURIComponent(keyword)\n",
              "            })\n",
              "            .then(response => response.json())\n",
              "            .then(data => {\n",
              "                // Parse the JSON data and plot the chart\n",
              "                const graphJson = JSON.parse(data);\n",
              "                Plotly.react('chart', graphJson.data, graphJson.layout);\n",
              "            })\n",
              "            .catch(error => {\n",
              "                console.error('Error:', error);\n",
              "            });\n",
              "        });\n",
              "    </script>\n",
              "</body>\n",
              "</html>\n"
            ]
          },
          "metadata": {}
        }
      ]
    },
    {
      "cell_type": "code",
      "source": [
        "def calculate_accuracy(predictions, true_labels):\n",
        "    # Count the number of correct predictions\n",
        "    correct_predictions = sum(predictions == true_labels)\n",
        "\n",
        "    # Calculate accuracy\n",
        "    accuracy = correct_predictions / len(true_labels)\n",
        "\n",
        "    return accuracy\n"
      ],
      "metadata": {
        "id": "6_2-kFUkICbF"
      },
      "execution_count": null,
      "outputs": []
    },
    {
      "cell_type": "code",
      "source": [
        "# Example true labels (adjust based on your data)\n",
        "true_labels = ['positive', 'negative', 'neutral']\n",
        "\n",
        "# Assuming predictions are the model's predictions\n",
        "# predictions = model.predict(filtered_texts)\n",
        "\n",
        "# Calculate accuracy\n",
        "accuracy = calculate_accuracy(predictions, true_labels)\n",
        "print(f\"Accuracy: {accuracy}\")\n"
      ],
      "metadata": {
        "id": "IO3PLswfInW-"
      },
      "execution_count": null,
      "outputs": []
    },
    {
      "cell_type": "code",
      "source": [
        "import joblib\n",
        "import pandas as pd\n",
        "from IPython.display import HTML, display\n",
        "import matplotlib.pyplot as plt\n",
        "\n",
        "# Load the trained model\n",
        "model_path = '/content/trained_model.joblib'  # Adjust the path as necessary\n",
        "model = joblib.load(model_path)\n",
        "\n",
        "# Example dataset with true labels for testing\n",
        "data = {\n",
        "    \"text\": [\n",
        "        \"I hate the new movie!\",\n",
        "        \"I love the new movie!\",\n",
        "        \"I feel neutral about this event.\",\n",
        "        \"The weather is terrible today.\",\n",
        "        \"I saw the new movie!\",\n",
        "        \"I saw the new movie!\",\n",
        "        \"I saw the new movie!\"\n",
        "    ],\n",
        "    \"true_labels\": [\n",
        "        \"negative\",\n",
        "        \"positive\",\n",
        "        \"neutral\",\n",
        "        \"negative\",\n",
        "        \"neutral\",\n",
        "        \"neutral\",\n",
        "        \"neutral\"\n",
        "    ]\n",
        "}\n",
        "\n",
        "# Perform sentiment analysis and separate neutral tweets based on true labels\n",
        "def perform_sentiment_analysis(topic1,topic2):\n",
        "    # Initialize counts\n",
        "    positive_count1= 0\n",
        "    negative_count1 = 0\n",
        "    neutral_count1 = 0\n",
        "     positive_count2 = 0\n",
        "    negative_count2 = 0\n",
        "    neutral_count2 = 0\n",
        "\n",
        "    # Filter data based on the topic\n",
        "    filtered_texts = []\n",
        "    filtered_labels = []\n",
        "\n",
        "    for i in range(len(data[\"text\"])):\n",
        "        text = data[\"text\"][i]\n",
        "        label = data[\"true_labels\"][i]\n",
        "        if topic.lower() in text.lower():\n",
        "            filtered_texts.append(text)\n",
        "            filtered_labels.append(label)\n",
        "\n",
        "            # Count neutral tweets based on true labels\n",
        "            if label == 'neutral':\n",
        "                neutral_count1 += 1\n",
        "\n",
        "    # Predict sentiment using the model\n",
        "    predictions = model.predict(filtered_texts)\n",
        "\n",
        "    # Count positive and negative sentiments from the predictions\n",
        "    positive_count1 += sum(predictions == 'positive' and label != 'neutral' for predictions, label in zip(predictions, filtered_labels))\n",
        "    negative_count1 += sum(predictions == 'negative' and label != 'neutral' for predictions, label in zip(predictions, filtered_labels))\n",
        "    for i in range(len(data[\"text\"])):\n",
        "        text = data[\"text\"][i]\n",
        "        label = data[\"true_labels\"][i]\n",
        "        if topic.lower() in text.lower():\n",
        "            filtered_texts.append(text)\n",
        "            filtered_labels.append(label)\n",
        "\n",
        "            # Count neutral tweets based on true labels\n",
        "            if label == 'neutral':\n",
        "                neutral_count2 += 1\n",
        "\n",
        "    # Predict sentiment using the model\n",
        "    predictions = model.predict(filtered_texts)\n",
        "\n",
        "    # Count positive and negative sentiments from the predictions\n",
        "    positive_count2 += sum(predictions == 'positive' and label != 'neutral' for predictions, label in zip(predictions, filtered_labels))\n",
        "    negative_count2 += sum(predictions == 'negative' and label != 'neutral' for predictions, label in zip(predictions, filtered_labels))\n",
        "\n",
        "\n",
        "    # Return the sentiment analysis results\n",
        "    return positive_count, negative_count, neutral_count,positive_count, negative_count, neutral_count\n",
        "\n",
        "# Function to create two histograms adjacent to each other\n",
        "def create_histograms(positive_count, negative_count, neutral_count):\n",
        "    # Define data for the histograms\n",
        "    labels = ['Positive', 'Negative', 'Neutral']\n",
        "    values1 = [positive_count, negative_count, neutral_count]\n",
        "    values2 = [negative_count, neutral_count, positive_count]\n",
        "    colors1 = ['green', 'red', 'blue']\n",
        "    colors2 = ['red', 'blue', 'green']\n",
        "\n",
        "    # Create a figure with two subplots\n",
        "    fig, (ax1, ax2) = plt.subplots(1, 2, figsize=(14, 5))\n",
        "\n",
        "    # Plot the first histogram\n",
        "    ax1.bar(labels, values1, color=colors1)\n",
        "    ax1.set_ylabel('Count')\n",
        "    ax1.set_title('Sentiment Analysis 1')\n",
        "\n",
        "    # Plot the second histogram\n",
        "    ax2.bar(labels, values2, color=colors2)\n",
        "    ax2.set_ylabel('Count')\n",
        "    ax2.set_title('Sentiment Analysis 2')\n",
        "\n",
        "    # Adjust layout to prevent overlap\n",
        "    plt.tight_layout()\n",
        "    plt.show()\n",
        "\n",
        "# Test the sentiment analysis and histogram creation\n",
        "topic = \"movie\"  # Adjust the topic as necessary\n",
        "positive_count, negative_count, neutral_count = perform_sentiment_analysis(topic1,topic2)\n",
        "\n",
        "# Print the counts of positive, negative, and neutral sentiments\n",
        "print(f\"Positive Tweets topic1: {positive_count}\")\n",
        "print(f\"Negative Tweets topic1: {negative_count}\")\n",
        "print(f\"Neutral Tweets topic1: {neutral_count}\")\n",
        "print(f\"Positive Tweets topic2: {positive_count}\")\n",
        "print(f\"Negative Tweets topic2: {negative_count}\")\n",
        "print(f\"Neutral Tweets topic2: {neutral_count}\")\n",
        "\n",
        "# Create and display the histograms\n",
        "create_histograms(positive_count, negative_count, neutral_count)"
      ],
      "metadata": {
        "colab": {
          "base_uri": "https://localhost:8080/",
          "height": 76
        },
        "id": "b3i1yJcDWqS5",
        "outputId": "0777b9d2-7f81-4e31-fb15-455c13a0330f"
      },
      "execution_count": 64,
      "outputs": [
        {
          "output_type": "execute_result",
          "data": {
            "text/plain": [
              "<IPython.core.display.HTML object>"
            ],
            "text/html": [
              "\n",
              "<form action=\"/analyze\" method=\"get\">\n",
              "    <label for=\"topic1\">Enter topic 1:</label>\n",
              "    <input type=\"text\" id=\"topic1\" name=\"topic1\"><br>\n",
              "    <label for=\"topic2\">Enter topic 2:</label>\n",
              "    <input type=\"text\" id=\"topic2\" name=\"topic2\"><br>\n",
              "    <input type=\"submit\" value=\"Analyze\">\n",
              "</form>\n"
            ]
          },
          "metadata": {},
          "execution_count": 64
        }
      ]
    },
    {
      "cell_type": "code",
      "source": [
        "import joblib\n",
        "import pandas as pd\n",
        "from IPython.display import HTML, display\n",
        "import matplotlib.pyplot as plt\n",
        "\n",
        "# Load the trained model\n",
        "model_path = '/content/trained_model.joblib'  # Adjust the path as necessary\n",
        "model = joblib.load(model_path)\n",
        "\n",
        "# Example dataset with true labels for testing\n",
        "data = {\n",
        "    \"text\": [\n",
        "        \"I hate the new movie!\",\n",
        "        \"I love the new movie!\",\n",
        "        \"I feel neutral about this event.\",\n",
        "        \"The weather is terrible today.\",\n",
        "        \"I saw the new movie!\",\n",
        "        \"I saw the new movie!\",\n",
        "        \"I saw the new movie!\"\n",
        "    ],\n",
        "    \"true_labels\": [\n",
        "        \"negative\",\n",
        "        \"positive\",\n",
        "        \"neutral\",\n",
        "        \"negative\",\n",
        "        \"neutral\",\n",
        "        \"neutral\",\n",
        "        \"neutral\"\n",
        "    ]\n",
        "}\n",
        "\n",
        "# Perform sentiment analysis and separate neutral tweets based on true labels\n",
        "def perform_sentiment_analysis(topic):\n",
        "    # Initialize counts\n",
        "    positive_count = 0\n",
        "    negative_count = 0\n",
        "    neutral_count = 0\n",
        "\n",
        "    # Filter data based on the topic\n",
        "    filtered_texts = []\n",
        "    filtered_labels = []\n",
        "\n",
        "    for i in range(len(data[\"text\"])):\n",
        "        text = data[\"text\"][i]\n",
        "        label = data[\"true_labels\"][i]\n",
        "        if topic.lower() in text.lower():\n",
        "            filtered_texts.append(text)\n",
        "            filtered_labels.append(label)\n",
        "\n",
        "            # Count neutral tweets based on true labels\n",
        "            if label == 'neutral':\n",
        "                neutral_count += 1\n",
        "\n",
        "    # Predict sentiment using the model\n",
        "    predictions = model.predict(filtered_texts)\n",
        "\n",
        "    # Count positive and negative sentiments from the predictions\n",
        "    positive_count += sum(predictions == 'positive' and label != 'neutral' for predictions, label in zip(predictions, filtered_labels))\n",
        "    negative_count += sum(predictions == 'negative' and label != 'neutral' for predictions, label in zip(predictions, filtered_labels))\n",
        "\n",
        "    # Return the sentiment analysis results\n",
        "    return positive_count, negative_count, neutral_count\n",
        "\n",
        "# Function to create a histogram\n",
        "def create_histogram(positive_count, negative_count, neutral_count):\n",
        "    # Define data for the histogram\n",
        "    labels = ['Positive', 'Negative', 'Neutral']\n",
        "    values = [positive_count, negative_count, neutral_count]\n",
        "    colors = ['pink', 'grey', 'orange']\n",
        "\n",
        "    # Create a bar chart for sentiment analysis\n",
        "    fig, ax = plt.subplots(figsize=(10, 5))\n",
        "    ax.bar(labels, values, color=colors)\n",
        "    ax.set_ylabel('Count')\n",
        "    ax.set_title('Sentiment Analysis')\n",
        "    plt.show()\n",
        "\n",
        "# Test the sentiment analysis and histogram creation\n",
        "topic = \"movie\"  # Adjust the topic as necessary\n",
        "positive_count1, negative_count1, neutral_count1 = perform_sentiment_analysis(topic)\n",
        "topic2 = \"event\"  # Adjust the topic as necessary\n",
        "positive_count2, negative_count2, neutral_count2 = perform_sentiment_analysis(topic2)\n",
        "# Print the counts of positive, negative, and neutral sentiments\n",
        "print(f\"Positive Tweets: {positive_count1}\")\n",
        "print(f\"Negative Tweets: {negative_count1}\")\n",
        "print(f\"Neutral Tweets: {neutral_count1}\")\n",
        "print(f\"Positive Tweets: {positive_count2}\")\n",
        "print(f\"Negative Tweets: {negative_count2}\")\n",
        "print(f\"Neutral Tweets: {neutral_count2}\")\n",
        "\n",
        "# Create and display the histograms\n",
        "create_histogram(positive_count1, negative_count1, neutral_count1)\n",
        "create_histogram(positive_count2, negative_count2, neutral_count2)"
      ],
      "metadata": {
        "colab": {
          "base_uri": "https://localhost:8080/",
          "height": 1000
        },
        "id": "aRjbmH7-Yv-B",
        "outputId": "b685196f-196e-40b0-f16d-0a6a20a08c4f"
      },
      "execution_count": 69,
      "outputs": [
        {
          "output_type": "stream",
          "name": "stdout",
          "text": [
            "Positive Tweets: 1\n",
            "Negative Tweets: 1\n",
            "Neutral Tweets: 3\n",
            "Positive Tweets: 0\n",
            "Negative Tweets: 0\n",
            "Neutral Tweets: 1\n"
          ]
        },
        {
          "output_type": "display_data",
          "data": {
            "text/plain": [
              "<Figure size 1000x500 with 1 Axes>"
            ],
            "image/png": "[encoded data removed]"
          },
          "metadata": {}
        },
        {
          "output_type": "display_data",
          "data": {
            "text/plain": [
              "<Figure size 1000x500 with 1 Axes>"
            ],
            "image/png": "[encoded data removed]"
          },
          "metadata": {}
        }
      ]
    }
  ]
}